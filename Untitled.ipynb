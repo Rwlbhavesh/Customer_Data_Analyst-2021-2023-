{
 "cells": [
  {
   "cell_type": "code",
   "execution_count": 2,
   "id": "fd080eba-a34e-4863-911a-8544f87a0247",
   "metadata": {},
   "outputs": [
    {
     "name": "stderr",
     "output_type": "stream",
     "text": [
      "C:\\Users\\rawal\\AppData\\Local\\Temp\\ipykernel_10484\\1375947954.py:21: UserWarning: pandas only supports SQLAlchemy connectable (engine/connection) or database string URI or sqlite3 DBAPI2 connection. Other DBAPI2 objects are not tested. Please consider using SQLAlchemy.\n",
      "  df = pd.read_sql(query, conn)\n"
     ]
    },
    {
     "name": "stdout",
     "output_type": "stream",
     "text": [
      "  invoice_no customer_id  gender  age    category  quantity    price  \\\n",
      "0    I100008     C199951    Male   65    Clothing         5  1500.40   \n",
      "1    I100014     C138893    Male   55   Cosmetics         5   203.30   \n",
      "2    I100015     C132779  Female   35    Clothing         2   600.16   \n",
      "3    I100024     C244411  Female   67       Books         3    45.45   \n",
      "4    I100027     C150002  Female   19  Technology         4  4200.00   \n",
      "\n",
      "  payment_method invoice_date      shopping_mall  \n",
      "0           Cash   10-07-2022  Emaar Square Mall  \n",
      "1           Cash   18-06-2021     Viaport Outlet  \n",
      "2     Debit Card   04-03-2021   Mall of Istanbul  \n",
      "3    Credit Card   05-01-2023  Emaar Square Mall  \n",
      "4           Cash   18-05-2022   Mall of Istanbul  \n"
     ]
    }
   ],
   "source": [
    "# db_connect_mysqlconnector.py\n",
    "import pandas as pd\n",
    "import mysql.connector\n",
    "\n",
    "USER = \"dm_team7\"\n",
    "PASSWORD = \"DM!$!Team!72@04!23&\"\n",
    "HOST = \"18.136.157.135\"\n",
    "PORT = 3306\n",
    "DB = \"project_customer_segmentation\"\n",
    "TABLE = \"customer\"\n",
    "\n",
    "conn = mysql.connector.connect(\n",
    "    host=HOST,\n",
    "    port=PORT,\n",
    "    user=USER,\n",
    "    password=PASSWORD,\n",
    "    database=DB\n",
    ")\n",
    "\n",
    "query = \"SELECT invoice_no, customer_id, gender, age, category, quantity, price, payment_method, invoice_date, shopping_mall FROM customer LIMIT 5000;\"\n",
    "df = pd.read_sql(query, conn)\n",
    "print(df.head())\n",
    "\n",
    "conn.close()\n"
   ]
  },
  {
   "cell_type": "code",
   "execution_count": 5,
   "id": "9bfab6c9-492e-4372-ae33-045c7a9abda0",
   "metadata": {},
   "outputs": [
    {
     "data": {
      "text/plain": [
       "invoice_no        5000\n",
       "customer_id       5000\n",
       "gender            5000\n",
       "age               5000\n",
       "category          5000\n",
       "quantity          5000\n",
       "price             5000\n",
       "payment_method    5000\n",
       "invoice_date      5000\n",
       "shopping_mall     5000\n",
       "dtype: int64"
      ]
     },
     "execution_count": 5,
     "metadata": {},
     "output_type": "execute_result"
    }
   ],
   "source": [
    "df.count()"
   ]
  },
  {
   "cell_type": "code",
   "execution_count": 7,
   "id": "4c701c98-dcfa-4141-84a5-f52f4543c66a",
   "metadata": {},
   "outputs": [],
   "source": [
    "df.to_csv(\"customer_shopping_data.csv\", index=False)"
   ]
  },
  {
   "cell_type": "code",
   "execution_count": null,
   "id": "f68fbcf7-9803-459a-874b-b5be58a8523a",
   "metadata": {},
   "outputs": [],
   "source": []
  }
 ],
 "metadata": {
  "kernelspec": {
   "display_name": "Python [conda env:base] *",
   "language": "python",
   "name": "conda-base-py"
  },
  "language_info": {
   "codemirror_mode": {
    "name": "ipython",
    "version": 3
   },
   "file_extension": ".py",
   "mimetype": "text/x-python",
   "name": "python",
   "nbconvert_exporter": "python",
   "pygments_lexer": "ipython3",
   "version": "3.12.7"
  }
 },
 "nbformat": 4,
 "nbformat_minor": 5
}
